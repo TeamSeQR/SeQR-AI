{
 "cells": [
  {
   "cell_type": "code",
   "execution_count": 1,
   "id": "ebdeabef-701b-4846-954a-bd692c259dee",
   "metadata": {},
   "outputs": [],
   "source": [
    "import pandas as pd\n",
    "import os\n",
    "import logging\n",
    "from sklearn.model_selection import train_test_split\n",
    "from transformers import pipeline, AutoTokenizer, TFAutoModelForSequenceClassification\n",
    "import tensorflow as tf\n",
    "from tensorflow.keras.optimizers import Adam\n",
    "\n",
    "# 로깅 설정\n",
    "logging.basicConfig(level=logging.INFO)\n",
    "logger = logging.getLogger(__name__)\n",
    "\n",
    "# 데이터 경로 설정\n",
    "ROOT_DIR = \"../custom_datasets\"\n",
    "MODEL_DIR = './saved_model'\n",
    "TOKENIZER_DIR = './saved_tokenizer'\n"
   ]
  },
  {
   "cell_type": "code",
   "execution_count": 2,
   "id": "faef9dc7-ca0f-4938-b346-1349eda6e081",
   "metadata": {},
   "outputs": [
    {
     "name": "stdout",
     "output_type": "stream",
     "text": [
      "GPU를 찾을 수 없습니다. CPU로 실행합니다.\n"
     ]
    }
   ],
   "source": [
    "# GPU 사용 가능한지 확인\n",
    "gpus = tf.config.list_physical_devices('GPU')\n",
    "if gpus:\n",
    "    try:\n",
    "        for gpu in gpus:\n",
    "            tf.config.experimental.set_memory_growth(gpu, True)\n",
    "        print(f\"GPU 사용 가능: {len(gpus)} GPUs\")\n",
    "    except RuntimeError as e:\n",
    "        print(e)\n",
    "else:\n",
    "    print(\"GPU를 찾을 수 없습니다. CPU로 실행합니다.\")\n"
   ]
  },
  {
   "cell_type": "code",
   "execution_count": 3,
   "id": "82d57116-a4bc-4c8f-a3fa-d694b30920b6",
   "metadata": {},
   "outputs": [],
   "source": [
    "def load_and_prepare_data(root_dir, n_samples=10000):\n",
    "    # 데이터 로드 및 전처리\n",
    "    logger.info(\"피싱 데이터 로드 중...\")\n",
    "    phishing_df = pd.read_csv(\n",
    "        os.path.join(root_dir, 'combined_phishing_data.txt'),\n",
    "        header=None, delimiter='\\t', names=['label', 'URL']\n",
    "    )\n",
    "    logger.info(f\"피싱 데이터 로드 완료: {len(phishing_df)}개 샘플\")\n",
    "\n",
    "    benign_df = pd.read_csv(\n",
    "        os.path.join(root_dir, 'combined_safe_data.txt'),\n",
    "        header=None, delimiter='\\t', names=['label', 'URL']\n",
    "    )\n",
    "    logger.info(f\"정상 데이터 로드 완료: {len(benign_df)}개 샘플\")\n",
    "\n",
    "    phishing_df = phishing_df.sample(n=n_samples, random_state=42)\n",
    "    benign_df = benign_df.sample(n=n_samples, random_state=42)\n",
    "    df = pd.concat([phishing_df, benign_df], ignore_index=True)\n",
    "\n",
    "    label_mapping = {-1: 1, +1: 0}\n",
    "    df['label'] = df['label'].map(label_mapping)\n",
    "    df = df.sample(frac=1, random_state=42).reset_index(drop=True)\n",
    "\n",
    "    texts = df['URL'].tolist()\n",
    "    labels = df['label'].tolist()\n",
    "\n",
    "    train_texts, val_texts, train_labels, val_labels = train_test_split(\n",
    "        texts, labels, test_size=0.2, random_state=42\n",
    "    )\n",
    "    return train_texts, val_texts, train_labels, val_labels\n"
   ]
  },
  {
   "cell_type": "code",
   "execution_count": 4,
   "id": "db2c95c3-75f8-4921-a9d3-daa738f9f274",
   "metadata": {},
   "outputs": [],
   "source": [
    "def train_model(train_texts, train_labels, val_texts, val_labels, epochs=3, batch_size=16, model=None):\n",
    "    tokenizer = AutoTokenizer.from_pretrained(\"ealvaradob/bert-finetuned-phishing\")\n",
    "\n",
    "    train_encodings = tokenizer(train_texts, truncation=True, padding=True)\n",
    "    val_encodings = tokenizer(val_texts, truncation=True, padding=True)\n",
    "\n",
    "    train_dataset = tf.data.Dataset.from_tensor_slices((dict(train_encodings), train_labels))\n",
    "    val_dataset = tf.data.Dataset.from_tensor_slices((dict(val_encodings), val_labels))\n",
    "\n",
    "    if model is None:\n",
    "        model = TFAutoModelForSequenceClassification.from_pretrained(\"ealvaradob/bert-finetuned-phishing\", from_pt=True)\n",
    "\n",
    "    optimizer = Adam(learning_rate=3e-5)\n",
    "    model.compile(optimizer=optimizer, metrics=['accuracy'])\n",
    "\n",
    "    train_dataset = train_dataset.shuffle(len(train_dataset), seed=42).batch(batch_size)\n",
    "    val_dataset = val_dataset.batch(batch_size)\n",
    "\n",
    "    history = model.fit(train_dataset, validation_data=val_dataset, epochs=epochs)\n",
    "\n",
    "    loss, accuracy = model.evaluate(val_dataset)\n",
    "    print(f\"검증 세트 손실: {loss:.4f}\")\n",
    "    print(f\"검증 세트 정확도: {accuracy * 100:.2f}%\")\n",
    "\n",
    "    model.save_pretrained(MODEL_DIR)\n",
    "    tokenizer.save_pretrained(TOKENIZER_DIR)\n",
    "\n",
    "    return model, tokenizer\n"
   ]
  },
  {
   "cell_type": "code",
   "execution_count": null,
   "id": "ebf6b40c-93ec-45a4-bf9d-331d11a979e8",
   "metadata": {},
   "outputs": [
    {
     "name": "stderr",
     "output_type": "stream",
     "text": [
      "INFO:__main__:피싱 데이터 로드 중...\n",
      "INFO:__main__:피싱 데이터 로드 완료: 93104개 샘플\n",
      "INFO:__main__:정상 데이터 로드 완료: 1005715개 샘플\n",
      "C:\\Users\\mingk\\anaconda3\\envs\\venv\\lib\\site-packages\\huggingface_hub\\file_download.py:1142: FutureWarning: `resume_download` is deprecated and will be removed in version 1.0.0. Downloads always resume when possible. If you want to force a new download, use `force_download=True`.\n",
      "  warnings.warn(\n",
      "C:\\Users\\mingk\\anaconda3\\envs\\venv\\lib\\site-packages\\transformers\\modeling_tf_pytorch_utils.py:185: FutureWarning: You are using `torch.load` with `weights_only=False` (the current default value), which uses the default pickle module implicitly. It is possible to construct malicious pickle data which will execute arbitrary code during unpickling (See https://github.com/pytorch/pytorch/blob/main/SECURITY.md#untrusted-models for more details). In a future release, the default value for `weights_only` will be flipped to `True`. This limits the functions that could be executed during unpickling. Arbitrary objects will no longer be allowed to be loaded via this mode unless they are explicitly allowlisted by the user via `torch.serialization.add_safe_globals`. We recommend you start setting `weights_only=True` for any use case where you don't have full control of the loaded file. Please open an issue on GitHub for any issues related to this experimental feature.\n",
      "  pt_state_dict.update(torch.load(pt_path, map_location=\"cpu\"))\n",
      "All PyTorch model weights were used when initializing TFBertForSequenceClassification.\n",
      "\n",
      "All the weights of TFBertForSequenceClassification were initialized from the PyTorch model.\n",
      "If your task is similar to the task the model of the checkpoint was trained on, you can already use TFBertForSequenceClassification for predictions without further training.\n"
     ]
    },
    {
     "name": "stdout",
     "output_type": "stream",
     "text": [
      "Epoch 1/3\n"
     ]
    }
   ],
   "source": [
    "train_texts, val_texts, train_labels, val_labels = load_and_prepare_data(ROOT_DIR)\n",
    "model, tokenizer = train_model(train_texts, train_labels, val_texts, val_labels)\n"
   ]
  },
  {
   "cell_type": "code",
   "execution_count": null,
   "id": "effbe0d2-6006-4bb4-b312-a81226931837",
   "metadata": {},
   "outputs": [],
   "source": [
    "pip install tensorflow-gpu\n"
   ]
  },
  {
   "cell_type": "code",
   "execution_count": null,
   "id": "0ae9ad72-b2f4-43ac-980d-43f3033c32bf",
   "metadata": {},
   "outputs": [],
   "source": []
  }
 ],
 "metadata": {
  "kernelspec": {
   "display_name": "Python 3 (ipykernel)",
   "language": "python",
   "name": "python3"
  },
  "language_info": {
   "codemirror_mode": {
    "name": "ipython",
    "version": 3
   },
   "file_extension": ".py",
   "mimetype": "text/x-python",
   "name": "python",
   "nbconvert_exporter": "python",
   "pygments_lexer": "ipython3",
   "version": "3.10.14"
  }
 },
 "nbformat": 4,
 "nbformat_minor": 5
}
